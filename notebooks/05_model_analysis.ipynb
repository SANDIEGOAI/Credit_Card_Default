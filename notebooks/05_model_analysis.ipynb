{
 "cells": [
  {
   "cell_type": "markdown",
   "metadata": {},
   "source": [
    "# 05 - Model Analysis\n",
    "\n",
    "## 1. Load Data and Model\n",
    "We use the best model selected previously and evaluate it on the test set.\n"
   ]
  },
  {
   "cell_type": "code",
   "execution_count": 37,
   "metadata": {},
   "outputs": [],
   "source": [
    "import pandas as pd\n",
    "from sklearn.model_selection import train_test_split\n",
    "import sys\n",
    "sys.path.append('..')\n",
    "from src.modeling import evaluate_model_with_threshold, evaluate_model\n",
    "\n",
    "df = pd.read_csv('../data/processed/credit_card_default_processed.csv')\n",
    "X = df.drop('default_payment', axis=1)\n",
    "y = df['default_payment']\n",
    "X_train, X_test, y_train, y_test = train_test_split(X, y, test_size=0.2, random_state=42, stratify=y)\n"
   ]
  },
  {
   "cell_type": "markdown",
   "metadata": {},
   "source": [
    "## 2. Evaluate Best Model\n",
    "Assume Random Forest was selected (update if Logistic Regression was better).\n"
   ]
  },
  {
   "cell_type": "code",
   "execution_count": 34,
   "metadata": {},
   "outputs": [
    {
     "name": "stdout",
     "output_type": "stream",
     "text": [
      "Insufficient class diversity: need both FN and TP samples.\n"
     ]
    }
   ],
   "source": [
    "# import pandas as pd\n",
    "# import numpy as np\n",
    "# from sklearn.linear_model import LogisticRegression\n",
    "\n",
    "# # Get predicted probabilities\n",
    "# y_prob = lr_model.predict_proba(X_test)[:, 1]\n",
    "\n",
    "# # Apply optimal threshold (e.g., 0.386)\n",
    "# optimal_threshold = 0.5\n",
    "# y_pred = (y_prob >= optimal_threshold).astype(int)\n",
    "\n",
    "# # Get indices of False Negatives and True Positives\n",
    "# fn_mask = (y_pred == 0) & (y_test == 1)\n",
    "# tp_mask = (y_pred == 1) & (y_test == 1)\n",
    "\n",
    "# # Extract FN and TP instances\n",
    "# X_fn = X_test[fn_mask]\n",
    "# X_tp = X_test[tp_mask]\n",
    "\n",
    "# if len(X_fn) == 0 or len(X_tp) == 0:\n",
    "#     print(\"Insufficient class diversity: need both FN and TP samples.\")\n",
    "# else:\n",
    "#     # Combine FN and TP\n",
    "#     X_fn_tp = pd.concat([X_fn, X_tp])\n",
    "#     y_fn_tp = np.array([0] * len(X_fn) + [1] * len(X_tp))  # 0: FN, 1: TP\n",
    "\n",
    "#     # Fit logistic regression\n",
    "#     clf = LogisticRegression(max_iter=1000)\n",
    "#     clf.fit(X_fn_tp, y_fn_tp)\n",
    "\n",
    "#     # View coefficients\n",
    "#     feature_contrib = pd.Series(clf.coef_[0], index=X_fn_tp.columns)\n",
    "#     print(feature_contrib.sort_values())\n",
    "\n"
   ]
  },
  {
   "cell_type": "code",
   "execution_count": 38,
   "metadata": {},
   "outputs": [
    {
     "name": "stdout",
     "output_type": "stream",
     "text": [
      "\n",
      "Logistic Regression Optimal Threshold: 0.578\n",
      "\n",
      "Logistic Regression Performance (Default Threshold = 0.5):\n",
      "Accuracy: 0.741\n",
      "Precision: 0.4389456697149005\n",
      "Recall: 0.6149208741522231\n",
      "F1-Score: 0.512241054613936\n",
      "AUC-ROC: 0.7506175949283599\n",
      "Confusion Matrix:\n",
      " [[3630 1043]\n",
      " [ 511  816]]\n",
      "\n",
      "Logistic Regression Performance (Optimal Threshold = 0.578):\n",
      "Accuracy: 0.7731666666666667\n",
      "Precision: 0.4889322916666667\n",
      "Recall: 0.5659382064807837\n",
      "F1-Score: 0.5246245197345442\n",
      "AUC-ROC: 0.7506175949283599\n",
      "Confusion Matrix:\n",
      " [[3888  785]\n",
      " [ 576  751]]\n"
     ]
    }
   ],
   "source": [
    "# Load and evaluate logistic regression model\n",
    "from src.utils import load_model\n",
    "\n",
    "# Load the trained logistic regression model\n",
    "lr_model = load_model('best_logistic_regression.joblib')\n",
    "\n",
    "evaluate_model_with_threshold(lr_model, X_test, y_test, 'Logistic Regression')"
   ]
  },
  {
   "cell_type": "code",
   "execution_count": 17,
   "metadata": {},
   "outputs": [
    {
     "name": "stdout",
     "output_type": "stream",
     "text": [
      "\n",
      "Random Forest Optimal Threshold: 0.386\n",
      "\n",
      "Random Forest Performance (Default Threshold = 0.5):\n",
      "Accuracy: 0.8003333333333333\n",
      "Precision: 0.5912305516265912\n",
      "Recall: 0.31499623210248684\n",
      "F1-Score: 0.4110127826941986\n",
      "AUC-ROC: 0.7425444733659718\n",
      "Confusion Matrix:\n",
      " [[4384  289]\n",
      " [ 909  418]]\n",
      "\n",
      "Random Forest Performance (Optimal Threshold = 0.386):\n",
      "Accuracy: 0.7621666666666667\n",
      "Precision: 0.46867167919799496\n",
      "Recall: 0.5636774679728711\n",
      "F1-Score: 0.5118029421826891\n",
      "AUC-ROC: 0.7425444733659718\n",
      "Confusion Matrix:\n",
      " [[3825  848]\n",
      " [ 579  748]]\n"
     ]
    }
   ],
   "source": [
    "# Load and evaluate random forest model\n",
    "rf_model = joblib.load('../outputs/models/best_random_forest.joblib')\n",
    "\n",
    "evaluate_model_with_threshold(rf_model, X_test, y_test, 'Random Forest')\n"
   ]
  },
  {
   "cell_type": "code",
   "execution_count": 3,
   "metadata": {},
   "outputs": [
    {
     "ename": "NameError",
     "evalue": "name 'rf_model' is not defined",
     "output_type": "error",
     "traceback": [
      "\u001b[0;31m---------------------------------------------------------------------------\u001b[0m",
      "\u001b[0;31mNameError\u001b[0m                                 Traceback (most recent call last)",
      "Cell \u001b[0;32mIn[3], line 2\u001b[0m\n\u001b[1;32m      1\u001b[0m \u001b[38;5;66;03m# Compare models and select the best one\u001b[39;00m\n\u001b[0;32m----> 2\u001b[0m \u001b[38;5;28;01mif\u001b[39;00m \u001b[43mrf_model\u001b[49m\u001b[38;5;241m.\u001b[39mscore(X_test, y_test) \u001b[38;5;241m>\u001b[39m lr_model\u001b[38;5;241m.\u001b[39mscore(X_test, y_test):\n\u001b[1;32m      3\u001b[0m     best_model \u001b[38;5;241m=\u001b[39m rf_model\n\u001b[1;32m      4\u001b[0m     \u001b[38;5;28mprint\u001b[39m(\u001b[38;5;124m\"\u001b[39m\u001b[38;5;124mRandom Forest selected as best model\u001b[39m\u001b[38;5;124m\"\u001b[39m)\n",
      "\u001b[0;31mNameError\u001b[0m: name 'rf_model' is not defined"
     ]
    }
   ],
   "source": [
    "# Compare models and select the best one\n",
    "if rf_model.score(X_test, y_test) > lr_model.score(X_test, y_test):\n",
    "    best_model = rf_model\n",
    "    print(\"Random Forest selected as best model\")\n",
    "else:\n",
    "    best_model = lr_model \n",
    "    print(\"Logistic Regression selected as best model\")\n"
   ]
  },
  {
   "cell_type": "markdown",
   "metadata": {},
   "source": [
    "## 3. Feature Importance (if Random Forest)\n",
    "Visualize the most important features for prediction.\n"
   ]
  },
  {
   "cell_type": "code",
   "execution_count": 3,
   "metadata": {},
   "outputs": [
    {
     "data": {
      "image/png": "[encoded data removed]",
      "text/plain": [
       "<Figure size 800x500 with 1 Axes>"
      ]
     },
     "metadata": {},
     "output_type": "display_data"
    }
   ],
   "source": [
    "import matplotlib.pyplot as plt\n",
    "import numpy as np\n",
    "feature_importances = best_model.feature_importances_\n",
    "indices = np.argsort(feature_importances)[::-1][:10]\n",
    "plt.figure(figsize=(8,5))\n",
    "plt.title('Top 10 Feature Importances')\n",
    "plt.bar(range(10), feature_importances[indices], align='center')\n",
    "plt.xticks(range(10), X.columns[indices], rotation=45)\n",
    "plt.tight_layout()\n",
    "plt.show()"
   ]
  },
  {
   "cell_type": "markdown",
   "metadata": {},
   "source": [
    "## 4. Summary\n",
    "- The selected model achieves strong performance on the test set.\n",
    "- Feature importance analysis highlights which variables are most predictive of default.\n",
    "- Next steps: consider further tuning, try more advanced models, or interpret results for business recommendations.\n"
   ]
  }
 ],
 "metadata": {
  "kernelspec": {
   "display_name": "Python 3",
   "language": "python",
   "name": "python3"
  },
  "language_info": {
   "codemirror_mode": {
    "name": "ipython",
    "version": 3
   },
   "file_extension": ".py",
   "mimetype": "text/x-python",
   "name": "python",
   "nbconvert_exporter": "python",
   "pygments_lexer": "ipython3",
   "version": "3.12.0"
  }
 },
 "nbformat": 4,
 "nbformat_minor": 2
}
