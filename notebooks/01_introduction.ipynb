{
 "cells": [
  {
   "cell_type": "markdown",
   "metadata": {},
   "source": [
    "# 01 - Introduction\n",
    "\n",
    "## Project Overview\n",
    "This project analyzes the [Default of Credit Card Clients Dataset](https://archive.ics.uci.edu/dataset/350/default+of+credit+card+clients) from the UCI Machine Learning Repository. The goal is to predict the probability of default for credit card clients using various machine learning models.\n",
    "\n",
    "## Dataset Description\n",
    "- **Source:** UCI Machine Learning Repository ([link](https://archive.ics.uci.edu/dataset/350/default+of+credit+card+clients))\n",
    "- **Instances:** 30,000\n",
    "- **Features:** 23 (demographics, payment history, bill statements, previous payments)\n",
    "- **Target:** Default payment (Yes = 1, No = 0)\n",
    "- **Period:** Data collected in Taiwan, April-September 2005\n",
    "\n",
    "### Feature Overview\n",
    "- `LIMIT_BAL`: Amount of given credit (NT dollar)\n",
    "- `SEX`: Gender (1 = male; 2 = female)\n",
    "- `EDUCATION`: Education level (1 = graduate school; 2 = university; 3 = high school; 4 = others)\n",
    "- `MARRIAGE`: Marital status (1 = married; 2 = single; 3 = others)\n",
    "- `AGE`: Age (years)\n",
    "- `PAY_0` to `PAY_6`: Repayment status for the past 6 months\n",
    "- `BILL_AMT1` to `BILL_AMT6`: Bill statement amounts for the past 6 months\n",
    "- `PAY_AMT1` to `PAY_AMT6`: Amount paid in the past 6 months\n",
    "\n",
    "## Objectives\n",
    "- Predict the probability of default for credit card clients\n",
    "- Compare different machine learning models\n",
    "- Provide actionable insights for risk management\n",
    "\n",
    "## Workflow Outline\n",
    "1. Data Cleaning/Preparation\n",
    "2. Exploratory Data Analysis\n",
    "3. Model Selection\n",
    "4. Model Analysis\n",
    "5. Conclusion and Recommendations\n",
    "\n",
    "---\n",
    "\n",
    "**Reference:**\n",
    "- Yeh, I. (2009). Default of Credit Card Clients [Dataset]. UCI Machine Learning Repository. https://doi.org/10.24432/C55S3H\n"
   ]
  }
 ],
 "metadata": {
  "kernelspec": {
   "display_name": "Python 3",
   "language": "python",
   "name": "python3"
  },
  "language_info": {
   "name": "python",
   "version": "3.9"
  }
 },
 "nbformat": 4,
 "nbformat_minor": 2
}