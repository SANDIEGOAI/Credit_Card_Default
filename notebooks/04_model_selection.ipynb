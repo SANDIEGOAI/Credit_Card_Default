{
 "cells": [
  {
   "cell_type": "markdown",
   "metadata": {},
   "source": [
    "# 04 - Model Selection\n",
    "\n",
    "## 1. Load Processed Data\n",
    "We load the cleaned and processed data for modeling.\n"
   ]
  },
  {
   "cell_type": "code",
   "execution_count": 1,
   "metadata": {},
   "outputs": [
    {
     "data": {
      "text/plain": [
       "((24000, 49), (6000, 49))"
      ]
     },
     "execution_count": 1,
     "metadata": {},
     "output_type": "execute_result"
    }
   ],
   "source": [
    "import pandas as pd\n",
    "from sklearn.model_selection import train_test_split\n",
    "from sklearn.preprocessing import StandardScaler\n",
    "\n",
    "df = pd.read_csv('../data/processed/credit_card_default_processed.csv')\n",
    "X = df.drop('default_payment', axis=1)\n",
    "y = df['default_payment']\n",
    "X_train, X_test, y_train, y_test = train_test_split(X, y, test_size=0.2, random_state=42, stratify=y)\n",
    "\n",
    "# scaler = StandardScaler()\n",
    "# numerical_cols = ['LIMIT_BAL', 'Avg_Bill', 'Avg_Payment',\n",
    "#                   'Total_Bill_vs_Payment_Ratio', 'Utilization_Trend']\n",
    "# X_train[numerical_cols] = scaler.fit_transform(X_train[numerical_cols])\n",
    "# X_test[numerical_cols] = scaler.transform(X_test[numerical_cols])\n",
    "\n",
    "X_train.shape, X_test.shape"
   ]
  },
  {
   "cell_type": "code",
   "execution_count": 2,
   "metadata": {},
   "outputs": [],
   "source": [
    "class_weights = {0: 1.0, 1: len(y_train[y_train == 0]) / len(y_train[y_train == 1])}"
   ]
  },
  {
   "cell_type": "markdown",
   "metadata": {},
   "source": [
    "## 2. Baseline Model: Logistic Regression\n",
    "Train a logistic regression as a baseline and evaluate with cross-validation.\n"
   ]
  },
  {
   "cell_type": "code",
   "execution_count": 9,
   "metadata": {},
   "outputs": [
    {
     "name": "stdout",
     "output_type": "stream",
     "text": [
      "Logistic Regression CV ROC-AUC: 0.6724566302611834\n"
     ]
    }
   ],
   "source": [
    "from sklearn.linear_model import LogisticRegression\n",
    "import sys\n",
    "sys.path.append('..')\n",
    "from src.modeling import cross_validate_model, train_model, grid_search\n",
    "\n",
    "# Increase max_iter and use liblinear solver which is more robust for this dataset\n",
    "logreg = LogisticRegression(max_iter=5000, solver='liblinear', class_weight=class_weights)\n",
    "cv_scores_logreg = cross_validate_model(logreg, X_train, y_train, cv=5, scoring='roc_auc')\n",
    "print('Logistic Regression CV ROC-AUC:', cv_scores_logreg.mean())\n",
    "logreg = train_model(logreg, X_train, y_train)"
   ]
  },
  {
   "cell_type": "markdown",
   "metadata": {},
   "source": [
    "## 3. Random Forest Classifier\n",
    "Try a Random Forest and compare performance.\n"
   ]
  },
  {
   "cell_type": "code",
   "execution_count": 13,
   "metadata": {},
   "outputs": [
    {
     "name": "stdout",
     "output_type": "stream",
     "text": [
      "Random Forest CV ROC-AUC: 0.7600308167213954\n"
     ]
    }
   ],
   "source": [
    "from sklearn.ensemble import RandomForestClassifier\n",
    "rf = RandomForestClassifier(n_estimators=100, random_state=42, class_weight=class_weights)\n",
    "cv_scores_rf = cross_validate_model(rf, X_train, y_train, cv=5, scoring='roc_auc')\n",
    "print('Random Forest CV ROC-AUC:', cv_scores_rf.mean())\n",
    "rf = train_model(rf, X_train, y_train)"
   ]
  },
  {
   "cell_type": "markdown",
   "metadata": {},
   "source": [
    "## 4. Hyperparameter Optimization"
   ]
  },
  {
   "cell_type": "markdown",
   "metadata": {},
   "source": [
    "### Logistic Regression with Grid Search"
   ]
  },
  {
   "cell_type": "code",
   "execution_count": 10,
   "metadata": {},
   "outputs": [
    {
     "name": "stdout",
     "output_type": "stream",
     "text": [
      "Best params: {'C': 0.1, 'penalty': 'l1', 'solver': 'liblinear'}\n",
      "Best ROC-AUC: 0.7645321239593781\n"
     ]
    }
   ],
   "source": [
    "param_grid_lr = {\n",
    "    'C': [0.01, 0.1, 1, 10], \n",
    "    'penalty': ['l1', 'l2'], \n",
    "    'solver': ['liblinear']\n",
    "}\n",
    "\n",
    "lr_grid = grid_search(logreg, param_grid_lr, X_train, y_train)\n",
    "\n",
    "best_model, best_params, best_score = lr_grid\n",
    "\n",
    "print(\"Best params:\", best_params)\n",
    "print(\"Best ROC-AUC:\", best_score) \n",
    "best_lr = best_model"
   ]
  },
  {
   "cell_type": "code",
   "execution_count": 11,
   "metadata": {},
   "outputs": [
    {
     "name": "stdout",
     "output_type": "stream",
     "text": [
      "Model saved to ../outputs/models/best_logistic_regression.joblib\n"
     ]
    }
   ],
   "source": [
    "from src.utils import save_model\n",
    "\n",
    "# Save the best Logistic Regression model\n",
    "save_model(best_lr, 'best_logistic_regression.joblib')"
   ]
  },
  {
   "cell_type": "markdown",
   "metadata": {},
   "source": [
    "### Random Forest with Grid Search"
   ]
  },
  {
   "cell_type": "code",
   "execution_count": 14,
   "metadata": {},
   "outputs": [
    {
     "name": "stdout",
     "output_type": "stream",
     "text": [
      "Best params: {'max_depth': 10, 'min_samples_split': 10, 'n_estimators': 200}\n",
      "Best ROC-AUC: 0.7802273876091081\n"
     ]
    }
   ],
   "source": [
    "param_grid_rf = {\n",
    "    'n_estimators': [100, 200, 300],\n",
    "    'max_depth': [None, 10, 20, 30],\n",
    "    'min_samples_split': [2, 5, 10],\n",
    "}\n",
    "rf_grid = grid_search(rf, param_grid_rf, X_train, y_train)\n",
    "\n",
    "best_model, best_params, best_score = rf_grid\n",
    "\n",
    "print(\"Best params:\", best_params)\n",
    "print(\"Best ROC-AUC:\", best_score) \n",
    "best_rf = best_model\n"
   ]
  },
  {
   "cell_type": "code",
   "execution_count": 15,
   "metadata": {},
   "outputs": [
    {
     "name": "stdout",
     "output_type": "stream",
     "text": [
      "Model saved to ../outputs/models/best_random_forest.joblib\n"
     ]
    }
   ],
   "source": [
    "# Save the best Random Forest model\n",
    "save_model(best_rf, 'best_random_forest.joblib')"
   ]
  },
  {
   "cell_type": "code",
   "execution_count": null,
   "metadata": {},
   "outputs": [],
   "source": []
  },
  {
   "cell_type": "code",
   "execution_count": null,
   "metadata": {},
   "outputs": [],
   "source": []
  },
  {
   "cell_type": "code",
   "execution_count": null,
   "metadata": {},
   "outputs": [],
   "source": []
  },
  {
   "cell_type": "markdown",
   "metadata": {},
   "source": [
    "## Decision Tree Classifier with Grid Search"
   ]
  },
  {
   "cell_type": "code",
   "execution_count": 7,
   "metadata": {},
   "outputs": [
    {
     "name": "stdout",
     "output_type": "stream",
     "text": [
      "Best params: {'max_depth': 5, 'min_samples_split': 2}\n",
      "Best ROC-AUC: 0.7652902350548355\n",
      "Model saved to ../outputs/models\\best_decision_tree.joblib\n"
     ]
    }
   ],
   "source": [
    "from sklearn.tree import DecisionTreeClassifier\n",
    "import sys\n",
    "sys.path.append('..')\n",
    "\n",
    "from src.modeling import grid_search, train_model\n",
    "from src.utils import save_model\n",
    "\n",
    "param_grid_dt = {\n",
    "    'max_depth': [3, 5, 7],\n",
    "    'min_samples_split': [2, 5, 10]\n",
    "}\n",
    "dt = DecisionTreeClassifier(class_weight=class_weights, random_state=42)\n",
    "dt_grid = grid_search(dt, param_grid_dt, X_train, y_train)\n",
    "best_model, best_params, best_score = dt_grid\n",
    "print(f\"Best params: {best_params}\")\n",
    "print(f\"Best ROC-AUC: {best_score}\")\n",
    "best_dt = train_model(best_model, X_train, y_train)\n",
    "save_model(best_dt, 'best_decision_tree.joblib')"
   ]
  },
  {
   "cell_type": "markdown",
   "metadata": {},
   "source": [
    "## K-Nearest Neighbors (KNN) with Grid Search"
   ]
  },
  {
   "cell_type": "code",
   "execution_count": 3,
   "metadata": {},
   "outputs": [
    {
     "name": "stdout",
     "output_type": "stream",
     "text": [
      "Best params: {'n_neighbors': 7, 'weights': 'distance'}\n",
      "Best ROC-AUC: 0.6191835177858624\n",
      "Model saved to ../outputs/models\\best_knn.joblib\n"
     ]
    }
   ],
   "source": [
    "from sklearn.neighbors import KNeighborsClassifier\n",
    "import sys\n",
    "sys.path.append('..')\n",
    "\n",
    "from src.modeling import grid_search, train_model\n",
    "from src.utils import save_model\n",
    "\n",
    "param_grid_knn = {\n",
    "    'n_neighbors': [3, 5, 7],\n",
    "    'weights': ['uniform', 'distance']\n",
    "}\n",
    "knn = KNeighborsClassifier()\n",
    "knn_grid = grid_search(knn, param_grid_knn, X_train, y_train)\n",
    "best_model, best_params, best_score = knn_grid\n",
    "print(f\"Best params: {best_params}\")\n",
    "print(f\"Best ROC-AUC: {best_score}\")\n",
    "best_knn = train_model(best_model, X_train, y_train)\n",
    "save_model(best_knn, 'best_knn.joblib')"
   ]
  },
  {
   "cell_type": "code",
   "execution_count": null,
   "metadata": {},
   "outputs": [],
   "source": []
  },
  {
   "cell_type": "code",
   "execution_count": null,
   "metadata": {},
   "outputs": [],
   "source": []
  }
 ],
 "metadata": {
  "kernelspec": {
   "display_name": "Python 3 (ipykernel)",
   "language": "python",
   "name": "python3"
  },
  "language_info": {
   "codemirror_mode": {
    "name": "ipython",
    "version": 3
   },
   "file_extension": ".py",
   "mimetype": "text/x-python",
   "name": "python",
   "nbconvert_exporter": "python",
   "pygments_lexer": "ipython3",
   "version": "3.12.10"
  }
 },
 "nbformat": 4,
 "nbformat_minor": 4
}
